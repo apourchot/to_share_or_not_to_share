{
 "cells": [
  {
   "cell_type": "markdown",
   "metadata": {},
   "source": [
    "# To Share or Not To Share: \n",
    "# A Comprehensive Appraisal of Weight-Sharing"
   ]
  },
  {
   "cell_type": "markdown",
   "metadata": {},
   "source": [
    "# Generating Search Spaces\n",
    "Simply run all cells __after having specified to path to the nasbench dataset__ and wait for a while"
   ]
  },
  {
   "cell_type": "code",
   "execution_count": 1,
   "metadata": {
    "ExecuteTime": {
     "end_time": "2020-02-07T11:30:33.879322Z",
     "start_time": "2020-02-07T11:30:31.941638Z"
    }
   },
   "outputs": [],
   "source": [
    "import nasbench.api as api\n",
    "import numpy as np\n",
    "import graphviz\n",
    "import pickle\n",
    "import sys\n",
    "\n",
    "from copy import deepcopy\n",
    "\n",
    "sys.path.append(\"..\")\n",
    "\n",
    "from models.graph_utils import *"
   ]
  },
  {
   "cell_type": "code",
   "execution_count": 2,
   "metadata": {
    "ExecuteTime": {
     "end_time": "2020-02-07T11:31:14.715336Z",
     "start_time": "2020-02-07T11:30:33.880706Z"
    }
   },
   "outputs": [
    {
     "name": "stdout",
     "output_type": "stream",
     "text": [
      "Loading dataset from file... This may take a few minutes...\n",
      "WARNING:tensorflow:From /home/alois/workspace/nasbench/nasbench/api.py:146: tf_record_iterator (from tensorflow.python.lib.io.tf_record) is deprecated and will be removed in a future version.\n",
      "Instructions for updating:\n",
      "Use eager execution and: \n",
      "`tf.data.TFRecordDataset(path)`\n",
      "Loaded dataset in 40 seconds\n"
     ]
    }
   ],
   "source": [
    "INPUT = 'input'\n",
    "OUTPUT = 'output'\n",
    "CONV1X1 = 'conv1x1-bn-relu'\n",
    "CONV3X3 = 'conv3x3-bn-relu'\n",
    "MAXPOOL3X3 = 'maxpool3x3'\n",
    "\n",
    "PATH_TO_NASBENCH = \"../datasets/nasbench_only108.tfrecord\"\n",
    "nasbench = api.NASBench(PATH_TO_NASBENCH)"
   ]
  },
  {
   "cell_type": "code",
   "execution_count": 3,
   "metadata": {
    "ExecuteTime": {
     "end_time": "2020-02-07T11:31:30.259950Z",
     "start_time": "2020-02-07T11:31:14.716698Z"
    }
   },
   "outputs": [],
   "source": [
    "# putting all the nasbench metrics into a list\n",
    "metrics = []\n",
    "nasbench_iter = nasbench.hash_iterator()\n",
    "for key in nasbench_iter:\n",
    "    metric = nasbench.get_metrics_from_hash(key)\n",
    "    metrics.append(metric)"
   ]
  },
  {
   "cell_type": "code",
   "execution_count": 4,
   "metadata": {
    "ExecuteTime": {
     "end_time": "2020-02-07T11:31:50.361472Z",
     "start_time": "2020-02-07T11:31:30.261365Z"
    }
   },
   "outputs": [],
   "source": [
    "# iterating over nasbench, and noting for each architecture\n",
    "# the number of output nodes, and whether there is a residiual connections\n",
    "metrics = []\n",
    "n_outs = []\n",
    "is_res = []\n",
    "\n",
    "for key in nasbench_iter:\n",
    "    \n",
    "    data = nasbench.get_metrics_from_hash(key)\n",
    "    \n",
    "    # adjacency matrix of the current architecture \n",
    "    matrix = data[0][\"module_adjacency\"]\n",
    "    \n",
    "    # n_outs, is_res\n",
    "    n_outs.append(np.sum(matrix[1:, -1]))\n",
    "    is_res.append(matrix[0, -1] == 1)\n",
    "    metrics.append(data)\n",
    "    \n",
    "metrics = metrics\n",
    "n_outs = np.array(n_outs)\n",
    "is_res = np.array(is_res)"
   ]
  },
  {
   "cell_type": "markdown",
   "metadata": {},
   "source": [
    "## A0"
   ]
  },
  {
   "cell_type": "code",
   "execution_count": 5,
   "metadata": {
    "ExecuteTime": {
     "end_time": "2020-02-07T11:31:54.856338Z",
     "start_time": "2020-02-07T11:31:50.366273Z"
    }
   },
   "outputs": [],
   "source": [
    "with open(\"../datasets/sp_full.pkl\", \"wb\") as f:\n",
    "    pickle.dump(metrics, f)"
   ]
  },
  {
   "cell_type": "markdown",
   "metadata": {},
   "source": [
    "## A4, A3, A2, A1"
   ]
  },
  {
   "cell_type": "code",
   "execution_count": 6,
   "metadata": {
    "ExecuteTime": {
     "end_time": "2020-02-07T11:31:59.728192Z",
     "start_time": "2020-02-07T11:31:54.860511Z"
    },
    "scrolled": false
   },
   "outputs": [],
   "source": [
    "for n in [1, 2, 3, 4]:\n",
    "    \n",
    "    metrics_sp = []\n",
    "    for i in range(len(metrics)):\n",
    "        if n_outs[i] == n:\n",
    "            metrics_sp.append(metrics[i])\n",
    "        \n",
    "    with open(\"../datasets/sp_{}.pkl\".format(n), \"wb\") as f:\n",
    "        pickle.dump(metrics_sp, f)"
   ]
  },
  {
   "cell_type": "markdown",
   "metadata": {},
   "source": [
    "## A0_no_res A0_res"
   ]
  },
  {
   "cell_type": "code",
   "execution_count": 7,
   "metadata": {
    "ExecuteTime": {
     "end_time": "2020-02-07T11:32:05.021458Z",
     "start_time": "2020-02-07T11:31:59.729410Z"
    }
   },
   "outputs": [],
   "source": [
    "for res in [0, 1]:\n",
    "    \n",
    "    metrics_sp = []\n",
    "    for i in range(len(metrics)):\n",
    "        if is_res[i] == res:\n",
    "            metrics_sp.append(metrics[i])\n",
    "            \n",
    "    with open(\"../datasets/sp_full_{}.pkl\".format(res), \"wb\") as f:\n",
    "        pickle.dump(metrics_sp, f)"
   ]
  },
  {
   "cell_type": "markdown",
   "metadata": {},
   "source": [
    "## Visualize Architectures from the Search Spaces"
   ]
  },
  {
   "cell_type": "code",
   "execution_count": 8,
   "metadata": {
    "ExecuteTime": {
     "end_time": "2020-02-07T11:32:05.031489Z",
     "start_time": "2020-02-07T11:32:05.025815Z"
    }
   },
   "outputs": [],
   "source": [
    "from models.graph_utils import print_graph"
   ]
  },
  {
   "cell_type": "code",
   "execution_count": 9,
   "metadata": {
    "ExecuteTime": {
     "end_time": "2020-02-07T11:32:05.464490Z",
     "start_time": "2020-02-07T11:32:05.036775Z"
    }
   },
   "outputs": [],
   "source": [
    "# sp = \"4\"\n",
    "# sp = \"3\"\n",
    "# sp = \"2\"\n",
    "# sp = \"1\"\n",
    "# sp = \"full\"\n",
    "# sp = \"full_0\"\n",
    "sp = \"full_1\"\n",
    "\n",
    "with open(\"../datasets/sp_{}.pkl\".format(sp), \"rb\") as f:\n",
    "    d = pickle.load(f)"
   ]
  },
  {
   "cell_type": "code",
   "execution_count": 10,
   "metadata": {
    "ExecuteTime": {
     "end_time": "2020-02-07T11:32:05.791100Z",
     "start_time": "2020-02-07T11:32:05.465462Z"
    }
   },
   "outputs": [
    {
     "data": {
      "image/svg+xml": [
       "<?xml version=\"1.0\" encoding=\"UTF-8\" standalone=\"no\"?>\n",
       "<!DOCTYPE svg PUBLIC \"-//W3C//DTD SVG 1.1//EN\"\n",
       " \"http://www.w3.org/Graphics/SVG/1.1/DTD/svg11.dtd\">\n",
       "<!-- Generated by graphviz version 2.40.1 (20161225.0304)\n",
       " -->\n",
       "<!-- Title: %3 Pages: 1 -->\n",
       "<svg width=\"116pt\" height=\"521pt\"\n",
       " viewBox=\"0.00 0.00 116.21 520.98\" xmlns=\"http://www.w3.org/2000/svg\" xmlns:xlink=\"http://www.w3.org/1999/xlink\">\n",
       "<g id=\"graph0\" class=\"graph\" transform=\"scale(1 1) rotate(0) translate(4 516.9848)\">\n",
       "<title>%3</title>\n",
       "<polygon fill=\"#ffffff\" stroke=\"transparent\" points=\"-4,4 -4,-516.9848 112.2132,-516.9848 112.2132,4 -4,4\"/>\n",
       "<!-- 0 -->\n",
       "<g id=\"node1\" class=\"node\">\n",
       "<title>0</title>\n",
       "<ellipse fill=\"#ff4500\" stroke=\"#ff4500\" stroke-width=\"2\" cx=\"70.2132\" cy=\"-21.2132\" rx=\"21.4286\" ry=\"21.4286\"/>\n",
       "<text text-anchor=\"middle\" x=\"70.2132\" y=\"-16.2132\" font-family=\"roman\" font-size=\"20.00\" fill=\"#000000\">0</text>\n",
       "</g>\n",
       "<!-- 1 -->\n",
       "<g id=\"node2\" class=\"node\">\n",
       "<title>1</title>\n",
       "<ellipse fill=\"#ffa500\" stroke=\"#ffa500\" stroke-width=\"2\" cx=\"21.2132\" cy=\"-99.6396\" rx=\"21.4286\" ry=\"21.4286\"/>\n",
       "<text text-anchor=\"middle\" x=\"21.2132\" y=\"-94.6396\" font-family=\"roman\" font-size=\"20.00\" fill=\"#000000\">1</text>\n",
       "</g>\n",
       "<!-- 0&#45;&gt;1 -->\n",
       "<g id=\"edge1\" class=\"edge\">\n",
       "<title>0&#45;&gt;1</title>\n",
       "<path fill=\"none\" stroke=\"#000000\" d=\"M58.8485,-39.4029C52.6022,-49.4003 44.7387,-61.9862 37.8168,-73.0649\"/>\n",
       "<polygon fill=\"#000000\" stroke=\"#000000\" points=\"34.8468,-71.2132 32.5163,-81.5485 40.7834,-74.9223 34.8468,-71.2132\"/>\n",
       "</g>\n",
       "<!-- 2 -->\n",
       "<g id=\"node3\" class=\"node\">\n",
       "<title>2</title>\n",
       "<ellipse fill=\"#ffa500\" stroke=\"#ffa500\" stroke-width=\"2\" cx=\"59.2132\" cy=\"-178.066\" rx=\"21.4286\" ry=\"21.4286\"/>\n",
       "<text text-anchor=\"middle\" x=\"59.2132\" y=\"-173.066\" font-family=\"roman\" font-size=\"20.00\" fill=\"#000000\">2</text>\n",
       "</g>\n",
       "<!-- 0&#45;&gt;2 -->\n",
       "<g id=\"edge2\" class=\"edge\">\n",
       "<title>0&#45;&gt;2</title>\n",
       "<path fill=\"none\" stroke=\"#000000\" d=\"M68.7068,-42.694C66.8225,-69.5631 63.5813,-115.7802 61.4178,-146.6303\"/>\n",
       "<polygon fill=\"#000000\" stroke=\"#000000\" points=\"57.9097,-146.6242 60.7014,-156.8446 64.8925,-147.114 57.9097,-146.6242\"/>\n",
       "</g>\n",
       "<!-- 6 -->\n",
       "<g id=\"node7\" class=\"node\">\n",
       "<title>6</title>\n",
       "<ellipse fill=\"#ff4500\" stroke=\"#ff4500\" stroke-width=\"2\" cx=\"83.2132\" cy=\"-491.7716\" rx=\"21.4286\" ry=\"21.4286\"/>\n",
       "<text text-anchor=\"middle\" x=\"83.2132\" y=\"-486.7716\" font-family=\"roman\" font-size=\"20.00\" fill=\"#000000\">6</text>\n",
       "</g>\n",
       "<!-- 0&#45;&gt;6 -->\n",
       "<g id=\"edge3\" class=\"edge\">\n",
       "<title>0&#45;&gt;6</title>\n",
       "<path fill=\"none\" stroke=\"#000000\" d=\"M78.272,-41.1426C89.4266,-70.5749 108.2132,-127.6316 108.2132,-178.066 108.2132,-178.066 108.2132,-178.066 108.2132,-334.9188 108.2132,-379.2652 98.3472,-429.7949 91.0109,-461.2383\"/>\n",
       "<polygon fill=\"#000000\" stroke=\"#000000\" points=\"87.5665,-460.5929 88.6378,-471.1335 94.3735,-462.2255 87.5665,-460.5929\"/>\n",
       "</g>\n",
       "<!-- 1&#45;&gt;2 -->\n",
       "<g id=\"edge4\" class=\"edge\">\n",
       "<title>1&#45;&gt;2</title>\n",
       "<path fill=\"none\" stroke=\"#000000\" d=\"M30.6065,-119.0259C35.1161,-128.3332 40.6057,-139.6628 45.5654,-149.8989\"/>\n",
       "<polygon fill=\"#000000\" stroke=\"#000000\" points=\"42.4178,-151.4296 49.928,-158.9027 48.7173,-148.3773 42.4178,-151.4296\"/>\n",
       "</g>\n",
       "<!-- 3 -->\n",
       "<g id=\"node4\" class=\"node\">\n",
       "<title>3</title>\n",
       "<ellipse fill=\"#ffa500\" stroke=\"#ffa500\" stroke-width=\"2\" cx=\"59.2132\" cy=\"-256.4924\" rx=\"21.4286\" ry=\"21.4286\"/>\n",
       "<text text-anchor=\"middle\" x=\"59.2132\" y=\"-251.4924\" font-family=\"roman\" font-size=\"20.00\" fill=\"#000000\">3</text>\n",
       "</g>\n",
       "<!-- 2&#45;&gt;3 -->\n",
       "<g id=\"edge5\" class=\"edge\">\n",
       "<title>2&#45;&gt;3</title>\n",
       "<path fill=\"none\" stroke=\"#000000\" d=\"M59.2132,-199.4964C59.2132,-207.3637 59.2132,-216.4425 59.2132,-225.0089\"/>\n",
       "<polygon fill=\"#000000\" stroke=\"#000000\" points=\"55.7133,-225.0879 59.2132,-235.088 62.7133,-225.088 55.7133,-225.0879\"/>\n",
       "</g>\n",
       "<!-- 4 -->\n",
       "<g id=\"node5\" class=\"node\">\n",
       "<title>4</title>\n",
       "<ellipse fill=\"#ffa500\" stroke=\"#ffa500\" stroke-width=\"2\" cx=\"59.2132\" cy=\"-334.9188\" rx=\"21.4286\" ry=\"21.4286\"/>\n",
       "<text text-anchor=\"middle\" x=\"59.2132\" y=\"-329.9188\" font-family=\"roman\" font-size=\"20.00\" fill=\"#000000\">4</text>\n",
       "</g>\n",
       "<!-- 3&#45;&gt;4 -->\n",
       "<g id=\"edge6\" class=\"edge\">\n",
       "<title>3&#45;&gt;4</title>\n",
       "<path fill=\"none\" stroke=\"#000000\" d=\"M59.2132,-277.9228C59.2132,-285.7901 59.2132,-294.8689 59.2132,-303.4353\"/>\n",
       "<polygon fill=\"#000000\" stroke=\"#000000\" points=\"55.7133,-303.5143 59.2132,-313.5144 62.7133,-303.5144 55.7133,-303.5143\"/>\n",
       "</g>\n",
       "<!-- 5 -->\n",
       "<g id=\"node6\" class=\"node\">\n",
       "<title>5</title>\n",
       "<ellipse fill=\"#ffa500\" stroke=\"#ffa500\" stroke-width=\"2\" cx=\"59.2132\" cy=\"-413.3452\" rx=\"21.4286\" ry=\"21.4286\"/>\n",
       "<text text-anchor=\"middle\" x=\"59.2132\" y=\"-408.3452\" font-family=\"roman\" font-size=\"20.00\" fill=\"#000000\">5</text>\n",
       "</g>\n",
       "<!-- 4&#45;&gt;5 -->\n",
       "<g id=\"edge7\" class=\"edge\">\n",
       "<title>4&#45;&gt;5</title>\n",
       "<path fill=\"none\" stroke=\"#000000\" d=\"M59.2132,-356.3492C59.2132,-364.2165 59.2132,-373.2953 59.2132,-381.8617\"/>\n",
       "<polygon fill=\"#000000\" stroke=\"#000000\" points=\"55.7133,-381.9408 59.2132,-391.9408 62.7133,-381.9408 55.7133,-381.9408\"/>\n",
       "</g>\n",
       "<!-- 5&#45;&gt;6 -->\n",
       "<g id=\"edge8\" class=\"edge\">\n",
       "<title>5&#45;&gt;6</title>\n",
       "<path fill=\"none\" stroke=\"#000000\" d=\"M65.5189,-433.9509C68.1095,-442.4163 71.161,-452.388 73.9938,-461.6447\"/>\n",
       "<polygon fill=\"#000000\" stroke=\"#000000\" points=\"70.6765,-462.7656 76.9496,-471.3036 77.3701,-460.7172 70.6765,-462.7656\"/>\n",
       "</g>\n",
       "</g>\n",
       "</svg>\n"
      ],
      "text/plain": [
       "<graphviz.dot.Digraph at 0x7f1d37f49d30>"
      ]
     },
     "execution_count": 10,
     "metadata": {},
     "output_type": "execute_result"
    }
   ],
   "source": [
    "print_graph(d[np.random.randint(len(d))][0][\"module_adjacency\"])"
   ]
  }
 ],
 "metadata": {
  "kernelspec": {
   "display_name": "Python 3",
   "language": "python",
   "name": "python3"
  },
  "language_info": {
   "codemirror_mode": {
    "name": "ipython",
    "version": 3
   },
   "file_extension": ".py",
   "mimetype": "text/x-python",
   "name": "python",
   "nbconvert_exporter": "python",
   "pygments_lexer": "ipython3",
   "version": "3.7.3"
  }
 },
 "nbformat": 4,
 "nbformat_minor": 2
}
